{
 "cells": [
  {
   "cell_type": "code",
   "execution_count": 1,
   "metadata": {},
   "outputs": [],
   "source": [
    "import pickle"
   ]
  },
  {
   "cell_type": "code",
   "execution_count": 2,
   "metadata": {},
   "outputs": [],
   "source": [
    "word_list=[\n",
    "    \"Amazing\", \"Awesome\", \"Available\", \"Advice\", \"Argument\", \"Active\", \"Aunt\", \"Apple\", \"Apartment\", \"Adventure\", \"Accident\", \"Answer\", \"Attitude\", \"Asleep\", \"Anyway\", \"Adorable\", \"Actor\", \"Announcement\",\n",
    "    \"Beautiful\", \"Brilliant\", \"Busy\", \"Best\", \"Better\", \"Brother\", \"Believe\", \"Boss\", \"Book\", \"Baby\", \"Breakfast\", \"Bathroom\", \"Bedroom\", \"Backyard\", \"Baseball\", \"Basketball\", \"Bicycle\", \"Bus\", \"Bank\",\n",
    "    \"Cool\", \"Crazy\", \"Cute\", \"Clever\", \"Classy\",\n",
    "    \"Delightful\", \"Dynamic\", \"Dad\", \"Daughter\", \"Dinner\", \"Dessert\", \"Dance\", \"Dress\", \"Dream\", \"Doctor\", \"Dog\", \"Dozen\", \"Day\", \"Dependable\", \"Dramatic\", \"Different\", \"Daring\", \"Diamond\", \"Divine\",\n",
    "    \"Excellent\", \"Extraordinary\", \"Exciting\", \"Exotic\", \"Easy\", \"Elegant\", \"Eager\", \"Electric\", \"Entertaining\", \"Energetic\", \"Educated\", \"Enthusiastic\", \"Empathetic\", \"Enchanting\", \"Endless\", \"Everlasting\", \"Efficient\", \"Effective\", \"Ethical\",\n",
    "    \"Friendly\", \"Funny\", \"Fascinating\", \"Famous\", \"Fair\", \"Fantastic\", \"Fabulous\", \"Father\", \"Fruit\", \"Food\", \"Feast\", \"Flower\", \"Forest\", \"Furniture\", \"Fan\", \"Film\", \"Football\", \"Fishing\",\n",
    "    \"Great\", \"Good\", \"Genuine\", \"Gorgeous\", \"Generous\", \"Grand\", \"Grateful\", \"Gentle\", \"Glorious\", \"Garden\", \"Gold\", \"Gift\", \"Guitar\", \"Game\", \"Gym\", \"Giraffe\", \"Genuine\", \"Global\", \"Graceful\",\n",
    "    \"Hey\",\"Hello\",\"Hi\",\"Happy\", \"Healthy\", \"Hopeful\", \"Heartfelt\", \"Handsome\", \"Humble\", \"Honest\", \"Helpful\", \"Hardworking\", \"Hot\", \"Hiking\", \"Holiday\", \"Home\", \"House\", \"Happiness\", \"Horse\", \"History\", \"Hobby\",\n",
    "    \"Interesting\", \"Incredible\", \"Impressive\", \"Intelligent\", \"Ideal\", \"Icy\", \"Iconic\", \"Important\", \"Informative\", \"Inquisitive\", \"Incredible\", \"Imaginative\", \"Inspiring\", \"Inviting\", \"Innovative\", \"Inventive\", \"Independent\", \"Inspired\", \"Integral\",\n",
    "    \"Joyful\", \"Jovial\", \"Jubilant\", \"Juicy\", \"Jazzy\", \"Joyous\", \"Jackpot\", \"Jacket\", \"Jewelry\", \"Job\", \"Jingle\", \"Journey\", \"Journal\", \"Joke\", \"Just\", \"Judge\", \"Justice\", \"Junior\",\n",
    "    \"Kind\", \"Knowledgeable\", \"Kangaroo\", \"Keen\", \"Kettle\", \"Keyboard\", \"Kick\", \"Kiss\", \"Kid\", \"King\", \"Knock\", \"Knight\", \"Kitchen\", \"Knowledge\", \"Kitten\", \"Karaoke\", \"Kebab\", \"Kernel\",\"Lively\", \"Love\", \"Laptop\", \"Life\", \"Laugh\", \"Luck\", \"Lemon\", \n",
    "    \"Luxury\", \"Loyal\", \"Lullaby\", \"Logical\", \"Listen\", \"Learning\", \"Library\", \"Lip\", \"Lovable\", \"Legitimate\", \"Legacy\", \"Liberate\",\n",
    "    \"Luxurious\", \"Limitless\", \"Landscape\", \"Luscious\", \"Light\", \"Lighthouse\", \"Lion\", \"List\", \"Leader\", \"Life-changing\", \"Life-giving\", \"Life-saving\", \"Lucky\", \"Legendary\", \"Longevity\", \"Livelyhood\", \"Leverage\", \"Literary\", \"Living\",\n",
    "    \"Magnificent\", \"Music\", \"Marvelous\", \"Majestic\", \"Mighty\", \"Motivate\", \"Master\", \"Mindful\", \"Motivated\", \"Mellow\", \"Modern\", \"Majesty\", \"Mentor\", \"Merry\", \"Memorable\", \"Memorial\", \"Mesmerizing\", \"Motivation\", \"Muse\",\n",
    "    \"Natural\", \"Nice\", \"Nurture\", \"Nourish\", \"New\", \"Neat\", \"Noble\", \"Nurturing\", \"Noteworthy\", \"Now\", \"Nimble\", \"Nomad\", \"Number one\", \"Nobleman\", \"Nurture\", \"Network\", \"Nutritious\", \"Navigate\", \"Noblewoman\",\n",
    "    \"Original\", \"Opportunity\", \"Optimistic\", \"Optimize\", \"Open\", \"Outgoing\", \"Outstanding\", \"One\", \"Organized\", \"Orderly\", \"Observant\", \"Oasis\", \"Oceanic\", \"Ongoing\", \"Onward\", \"Opulent\", \"Outstanding\", \"Oriented\", \"Olympian\",\n",
    "    \"Peaceful\", \"Powerful\", \"Positive\", \"Passionate\", \"Patient\", \"Purposeful\", \"Proud\", \"Playful\", \"Polite\", \"Pleasant\", \"Pleasure\", \"Promise\", \"Practical\", \"Productive\", \"Precious\", \"Precise\", \"Proactive\", \"Progressive\", \"Prosperous\",\n",
    "    \"Quality\", \"Quick\", \"Quiet\", \"Quaint\", \"Quantum\", \"Queen\", \"Quench\", \"Quest\", \"Quirky\", \"Quaint\", \"Quiz\", \"Quake\", \"Quell\", \"Quip\", \"Quota\", \"Qualify\", \"Quadruple\", \"Quash\",\n",
    "    \"Resourceful\", \"Respectful\", \"Reliable\", \"Responsible\", \"Remarkable\", \"Renowned\", \"Rewarding\", \"Refreshing\", \"Rational\", \"Realistic\", \"Ravishing\", \"Radiant\", \"Reassuring\", \"Rejuvenating\", \"Relaxed\", \"Receptive\", \"Romantic\", \"Ready\", \"Radiate\",\n",
    "    \"Smart\", \"Strong\", \"Successful\", \"Supportive\", \"Sincere\", \"Soulful\", \"Smile\", \"Sparkle\", \"Special\", \"Serene\", \"Sunny\", \"Steadfast\", \"Stimulating\", \"Spirited\", \"Stellar\", \"Sublime\", \"Supreme\", \"Sensational\", \"Satisfactory\",\n",
    "    \"Terrific\", \"Trustworthy\", \"Thrilling\", \"Tranquil\", \"Tenacious\", \"Truthful\", \"Thoughtful\", \"Trendy\", \"Tactful\", \"Tangible\", \"Teachable\", \"Team player\", \"Thankful\", \"Thrifty\", \"Thunder\", \"Tidy\", \"Timely\", \"Top-notch\", \"Tough\",\n",
    "    \"Unique\", \"Upbeat\", \"Understanding\", \"Unwavering\", \"Useful\", \"Upstanding\", \"Unforgettable\", \"Unconventional\", \"Ultimate\", \"Unselfish\", \"Uncommon\", \"Unity\", \"Ubiquitous\", \"Undisputed\", \"Undeniable\", \"Unlimited\", \"Unbeatable\", \"Unbiased\",\n",
    "    \"Valuable\", \"Versatile\", \"Vibrant\", \"Visionary\", \"Vital\", \"Vibrant\", \"Vivacious\", \"Valiant\", \"Vested\", \"Venture\", \"Viable\", \"Vocal\", \"Virtue\", \"Vigorous\", \"Vow\", \"Vitality\", \"Validity\", \"Vogue\", \"Venerate\",\n",
    "    \"Witty\", \"Willing\", \"Worthwhile\", \"Winning\", \"Wonderful\", \"Warm\", \"Wise\", \"Welcoming\", \"Worthy\", \"Wavy\", \"Wild\", \"Wholesome\", \"Wealthy\", \"Worth\", \"Wonder\", \"Well-being\", \"Wondrous\", \"Worship\", \"Worldly\",    \n",
    "    \"Xenial\", \"Xenodochial\", \"Xenophobic\", \"Xeric\", \"Xenotropic\", \"Xenolithic\", \"Xylographic\", \"Xylophonic\", \"Xanthic\", \"Xerophytic\", \"Xyloid\", \"Xylographical\", \"Xenomorphic\", \"Xanthous\", \"Xylophone\", \"Xerophyte\", \"Xylocarp\", \"Xenograft\", \"Xylotomy\",\n",
    "    \"Yearning\", \"Yummy\", \"Yield\", \"Youthful\", \"Yare\", \"Yes\", \"Yippee\", \"Yogic\", \"Yule\", \"Yen\", \"Yielded\", \"Yonder\", \"Yack\", \"Yardstick\", \"Yodel\", \"Yawning\", \"Yacht\", \"Yip\", \"Yap\",\n",
    "    \"Zealous\", \"Zenith\", \"Zest\", \"Zesty\", \"Zing\", \"Zappy\", \"Zonal\", \"Zoetic\", \"Zippy\", \"Zymotic\", \"Zymurgy\"]\n"
   ]
  },
  {
   "cell_type": "code",
   "execution_count": 5,
   "metadata": {},
   "outputs": [],
   "source": [
    "sent_list=['hi how are you','any questions', 'are you angry', 'are you busy', 'are you hungry', 'are you sick', 'be careful','can we meet tomorrow', 'did you book tickets','did you finish homework', 'do you go to office', 'do you have money',\n",
    "'do you want something to drink', 'do you want tea or coffee', 'do you watch TV', 'dont worry', 'flower is beautiful','good afternoon', 'good evening', 'good morning', 'good night', 'good question', 'had your lunch', 'happy journey',\n",
    "'hello what is your name', 'how many people are there in your family', 'i am a clerk', 'i am bore doing nothing','i am fine', 'i am sorry','year 2023','i am thinking', 'i am tired', 'i dont understand anything', 'i go to a theatre', 'i love to shop',\n",
    "'i had to say something but i forgot', 'i have headache', 'i like pink colour', 'i live in nagpur', 'lets go for lunch', 'my mother is a homemaker','my name is john', 'nice to meet you', 'no smoking please', 'open the door', 'please call me later',\n",
    "'please clean the room', 'please give me your pen', 'please use dustbin dont throw garbage', 'please wait for sometime', 'shall I help you','shall we go together tommorow', 'sign language interpreter','sit down','stand up', 'take care', 'there was traffic jam', 'wait I am thinking',\n",
    "'what are you doing', 'what is the problem', 'what is todays date', 'what is your father do', 'what is your job','what is your mobile number', 'what is your name', 'whats up', 'when is your interview', 'when we will go', 'where do you stay',\n",
    "'where is the bathroom', 'where is the police station', 'you are wrong','please wait for sometime','what are you doing','are you busy']"
   ]
  },
  {
   "cell_type": "code",
   "execution_count": 3,
   "metadata": {},
   "outputs": [],
   "source": [
    "f=open(\"D:/my python/python code/speech/word_list.pickle\",\"wb\")\n",
    "pickle.dump(word_list,f)\n",
    "f.close()"
   ]
  },
  {
   "cell_type": "code",
   "execution_count": 6,
   "metadata": {},
   "outputs": [],
   "source": [
    "f=open(\"D:/my python/python code/speech/sent_list.pickle\",\"wb\")\n",
    "pickle.dump(sent_list,f)\n",
    "f.close()"
   ]
  },
  {
   "cell_type": "code",
   "execution_count": null,
   "metadata": {},
   "outputs": [],
   "source": []
  },
  {
   "cell_type": "code",
   "execution_count": null,
   "metadata": {},
   "outputs": [],
   "source": []
  },
  {
   "cell_type": "code",
   "execution_count": null,
   "metadata": {},
   "outputs": [],
   "source": []
  },
  {
   "cell_type": "code",
   "execution_count": null,
   "metadata": {},
   "outputs": [],
   "source": []
  }
 ],
 "metadata": {
  "kernelspec": {
   "display_name": "Python 3",
   "language": "python",
   "name": "python3"
  },
  "language_info": {
   "codemirror_mode": {
    "name": "ipython",
    "version": 3
   },
   "file_extension": ".py",
   "mimetype": "text/x-python",
   "name": "python",
   "nbconvert_exporter": "python",
   "pygments_lexer": "ipython3",
   "version": "3.10.9"
  },
  "orig_nbformat": 4
 },
 "nbformat": 4,
 "nbformat_minor": 2
}
